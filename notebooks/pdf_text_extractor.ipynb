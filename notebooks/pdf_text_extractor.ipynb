{
 "cells": [
  {
   "cell_type": "markdown",
   "metadata": {},
   "source": [
    "### To collect handwritten text from a scanned PDF using Python, you can follow these steps:"
   ]
  },
  {
   "cell_type": "markdown",
   "metadata": {},
   "source": [
    "\n",
    "1.) To collect handwritten text from a scanned PDF using Python, you can follow these steps:\n",
    "\n",
    "Install Required Libraries:\n",
    "First, you'll need to install the necessary Python libraries. You can use the PyPDF2 library to extract text from PDFs, and the PyMuPDF (MuPDF) library for OCR (Optical Character Recognition) to extract text from scanned images.\n",
    "\n",
    "You can install these libraries using pip:\n",
    "\n",
    "    1.pip install PyPDF2\n",
    "    2.pip install PyMuPDF\n"
   ]
  },
  {
   "cell_type": "markdown",
   "metadata": {},
   "source": [
    "2.) Extract Text from PDF:\n",
    "Use PyPDF2 to extract text from the scanned PDF. The code snippet below shows you how to do this:"
   ]
  },
  {
   "cell_type": "code",
   "execution_count": null,
   "metadata": {},
   "outputs": [],
   "source": [
    "import PyPDF2\n",
    "\n",
    "# Open the PDF file\n",
    "pdf_file = open('your_scanned.pdf', 'rb')\n",
    "\n",
    "# Create a PDF object\n",
    "pdf_reader = PyPDF2.PdfFileReader(pdf_file)\n",
    "\n",
    "# Initialize a variable to store the text\n",
    "text = \"\"\n",
    "\n",
    "# Iterate through each page and extract text\n",
    "for page_num in range(pdf_reader.numPages):\n",
    "    page = pdf_reader.getPage(page_num)\n",
    "    text += page.extractText()\n",
    "\n",
    "# Close the PDF file\n",
    "pdf_file.close()"
   ]
  },
  {
   "cell_type": "code",
   "execution_count": null,
   "metadata": {},
   "outputs": [],
   "source": []
  },
  {
   "cell_type": "markdown",
   "metadata": {},
   "source": []
  }
 ],
 "metadata": {
  "kernelspec": {
   "display_name": "Python 3",
   "language": "python",
   "name": "python3"
  },
  "language_info": {
   "codemirror_mode": {
    "name": "ipython",
    "version": 3
   },
   "file_extension": ".py",
   "mimetype": "text/x-python",
   "name": "python",
   "nbconvert_exporter": "python",
   "pygments_lexer": "ipython3",
   "version": "3.10.12"
  }
 },
 "nbformat": 4,
 "nbformat_minor": 2
}
